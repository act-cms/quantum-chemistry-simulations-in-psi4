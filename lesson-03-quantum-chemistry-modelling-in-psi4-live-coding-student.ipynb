{
 "cells": [
  {
   "cell_type": "markdown",
   "id": "d8400fb4-cd1b-4ca3-92ca-9b3364ee69b3",
   "metadata": {},
   "source": [
    "# Introduction to Molecular Modeling Using Electronic Structure Theory #"
   ]
  },
  {
   "cell_type": "markdown",
   "id": "bb6d2b7e-b905-432b-b74e-88a700d05f2c",
   "metadata": {},
   "source": [
    "## Learning outcomes"
   ]
  },
  {
   "cell_type": "markdown",
   "id": "3910dfef-5b56-4ee3-9909-32d0c3065e50",
   "metadata": {},
   "source": [
    "After completing these exercises, you will be able to\n",
    "\n",
    "- explain the utility of electronic structure theory in modern chemistry\n",
    "- explain the basic tenets of the Born-Oppenheimer approximation\n",
    "- define the two main approximations used in calculating approximate solutions of the electronic Schrödinger equation\n",
    "- explain how basis set size affect the accuracy of solutions to the electronic Schrödinger equation\n",
    "- explain how the level of electron correlation treatment affects the accuracy of solutions to the electronic Schrödinger equation\n",
    "- enumerate the information contained in a potential energy curve/surface\n",
    "- demonstrate an understanding of the practical nuances of computational modeling"
   ]
  },
  {
   "cell_type": "markdown",
   "id": "b9967510-130f-4304-a5d1-03c2b37d28a5",
   "metadata": {},
   "source": [
    "## <span style=\"color:blue\"> Pre-lab activities </span>"
   ]
  },
  {
   "cell_type": "markdown",
   "id": "50a4c219-c34a-4701-ae2c-c0eadce5a4df",
   "metadata": {},
   "source": [
    "<span style=\"color:blue\">\n",
    "\n",
    "1. Read section I below.\n",
    "2. In one sentence, describe what electronic structure theory is and provide two examples of its utility.\n",
    "3. Provide a concise description of the Born-Oppenheimer approximation and provide the underlying justification for its application.\n",
    "4. In one sentence, describe the term LCAO.\n",
    "5. Consider a calculation for carbon monoxide at the HF level of theory using a cc-pVQZ basis set. Determine the number of i) occupied MOs, 2) total MOs, and 3) unoccupied virtual MOs.\n",
    "6. Provide a **short** description of how correlated electronic structure methods account for the instantaneous repulsion between electrons. \n",
    "</p>"
   ]
  },
  {
   "cell_type": "markdown",
   "id": "8f3deb86-503f-4dd4-9963-87a3a396a203",
   "metadata": {
    "jp-MarkdownHeadingCollapsed": true
   },
   "source": [
    "# Scope of this Jupyter notebook"
   ]
  },
  {
   "cell_type": "markdown",
   "id": "3e7ffdbd-7bf3-4e49-abd6-e0b9b7a6a85f",
   "metadata": {},
   "source": [
    "Computational chemistry plays a crucial role in modern chemistry, serving as a bridge between theoretical concepts and experimental observations. For students studying physical chemistry, familiarity with computational methods is essential, as these tools allow chemists to simulate complex molecular interactions, predict reaction outcomes, visualize chemical processes at an atomic level, and back up experimental results. By leveraging computational techniques, researchers can explore systems that may be difficult or impossible to study experimentally, thus enhancing our understanding of chemical phenomena and accelerating the development of new materials and pharmaceuticals. \n",
    "\n",
    "The field of computational chemistry encompasses many different areas including the analysis of qualitative structure property relationships (QSPR), the use of AI in predicting the three-dimensional structure of a protein from its amino acid sequence (think Alphafold2 and the 2024 Nobel prize in chemistry), and electronic structure theory. The examples in this worksheet will serve as an introduction to the utility of electronic structure theory in predicting the properties of small molecules, and I hope you will develop a deeper appreciation for the value of electronic structure methods in aiding experimental chemists. Below, you will find a brief discussion of the key ideas and approximations used in electronic structure theory. For a more detailed discussion, please see an introductory textbook on electronic structure theory or talk to your instructor.\n",
    "\n",
    "In section I.1, the Born-Oppenheimer approximation and the form of the electronic Schrödinger equation are discussed. Section I.2 presents the basic tenets of electronic structure theory. Section II provides an abbreciated list of acronyms and abbreviations of methods used by computational chemists, and the rest of the notebook (section III) is focused on examples that demonstrate concepts and applications of electronic structure theory to predict molecular properties and reaction energetics. Although we use the Psi4 electronic structure package in this notebook, there are many others (e.g. GAMESS, Q-Chem, Columbus, Gaussian, PySCF, ORCA etc.); each of these packages has its own strengths and challenges, and which one you use will depend on the specific problem you wish to solve. Lastly, I would be remiss not to mention that computational/theoretical chemists love using acronyms; I will try to keep the jargon and acronyms to a minimum, however, they are nearly impossible to avoid."
   ]
  },
  {
   "cell_type": "markdown",
   "id": "dcdb0117-245e-47dd-b114-9e828db01c13",
   "metadata": {
    "jp-MarkdownHeadingCollapsed": true
   },
   "source": [
    "# I. Introduction to key concepts of quantum chemistry modelling "
   ]
  },
  {
   "cell_type": "markdown",
   "id": "00badbba-12c4-4348-8ef3-263c330dd7a2",
   "metadata": {
    "jp-MarkdownHeadingCollapsed": true
   },
   "source": [
    "## I.1. The Born-Oppenheimer approximation, atomic units, and the electronic Schrödinger equation"
   ]
  },
  {
   "cell_type": "markdown",
   "id": "84b1272a-3e47-493f-aa4f-0a8603398a62",
   "metadata": {},
   "source": [
    "The Hamiltonian for a molecule with $N_e$ electrons (labeled by lower case letters $i$ and $j$) and $N_{nuc}$ nuclei (labeled by upper case letters $A$ and $B$) is\n",
    "\\begin{eqnarray}\n",
    "\\hat{H}_{\\rm molecular} &=& \\hat{T}_e + \\hat{V}_{Ne} + \\hat{V}_{ee} + \\hat{V}_{NN} + \\hat{T}_N \\\\\n",
    "&=& -\\frac{\\hbar^2}{2m_e}\\sum_{i=1}^{N_e} \\nabla^2_i -\\frac{e^2}{4\\pi\\varepsilon_0}\\sum_{A=1}^{N_{nuc}}\\sum_{i=1}^{N_e}\\frac{Z_A}{r_{iA}}+\\frac{e^2}{4\\pi\\varepsilon_0}\\sum_{i=1}^{N_e}\\sum_{j>i}^{N_e}\\frac{1}{r_{ij}} + \\frac{e^2}{4\\pi \\varepsilon_0} \\sum_{A=1}^{N_{nuc}} \\sum_{B>A}^{N_{nuc}} \\frac{Z_AZ_b}{R_{AB}} -\\frac{\\hbar^2}{2m_A}\\sum_{A=1}^{N_{nuc}}\\nabla_A^2 \\space{1mm}\n",
    "\\tag{1.1}\n",
    "\\end{eqnarray}\n",
    "where $m_A$ is the mass of nucleus $A$ (in kg), $e$ is the proton charge, $m_e$ is the rest mass of the electron, $Z_A$ is the atomic number (equal to the number of protons) for nucleus $A$, $\\hbar= \\frac{h}{2\\pi}$, $r_{ij}$ is the distance between electrons $i$ and $j$, $r_{iA}$ is the distance between nucleus $A$ and electron $i$, $R_{AB}$ is the distance between nuclei $A$ and $B$, $\\nabla_i^2$ is the Laplacian for electron $i$ (i.e. the sum of second partial derivatives with respect to coordinates of electron $i$), $\\nabla_A^2$ is the Laplacian for nucleus $A$, and $\\varepsilon_0$ is the permittivity of vacuum. The first and last terms account for the kinetic energies of the electrons and nuclei, respectively, while the electron-electron and nucleus-nucleus Coulomb repulsions are represented by third and fourth terms, respectively. Don't let the sign in front of the operators fool you! **Only** second term, which accounts for the Coulomb attraction between the nuclei and electrons, lowers the molecular energy!\n",
    "\n",
    "\n",
    "As you can probably appreciate from Eq. (1.1) and also from your experience in prior chemistry classes, SI units (J) are cumbersome when discussing energy levels of atoms or molecules. Thus, to simplify notation, we introduce atomic units. In this unit system \n",
    "\\begin{equation}\n",
    "e = m_e = \\hbar = 4\\pi\\varepsilon_0 = 1, \n",
    "\\tag{1.2}\n",
    "\\end{equation}\n",
    "and the molecular Hamiltonian is considerably simpler\n",
    "\\begin{equation}\n",
    "\\hat{H}_{\\rm molecular} = -\\frac{1}{2}\\sum_{i=1}^{N_e} \\nabla^2_i -\\sum_{A=1}^{N_{nuc}}\\sum_{i=1}^{N_e}\\frac{Z_A}{r_{iA}}+\\sum_{i=1}^{N_e}\\sum_{j>i}^{N_e}\\frac{1}{r_{ij}} + \\sum_{A=1}^{N_{nuc}} \\sum_{B>A}^{N_{nuc}} \\frac{Z_AZ_b}{R_{AB}} -\\frac{1}{2M_A}\\sum_{A=1}^{N_{nuc}}\\nabla_A^2 ,\n",
    "\\tag{1.3}\n",
    "\\end{equation}\n",
    "where $M_A$ is the mass of nucleus $A$ in atomic units (more on this in a little bit). In atomic units, distances are measured in multiples of Bohr radii $a_0 = \\frac{4\\pi \\varepsilon\\hbar^2}{m_ee^2}=0.5292$ ${\\mathring{\\rm{A}}}$ and energies are measured $E_h = \\frac{\\hbar^2}{m_ea_0^2} = 27.2114$ eV (the atomic unit of energy IS often referred to as a Hartree, named after the English physicist Douglas Hartree). As one can conclude from  Eq. (1.2),\n",
    "\\begin{equation}\n",
    "E_h = a_0 = 1\n",
    "\\end{equation}\n",
    "in atomic units. Although the Hamiltonian in Eq. (1.3) appears to be slightly more manageable now, it is a second-order partial differential that depends on the coordinates of **both** the electrons **and** the nuclei. In fact, it is extremely difficult to solve the full molecular Schrödinger equation for all but the simplest molecules, and we need to make some simplifying approximation. \n",
    "\n",
    "\n",
    "Note that although the rest mass of the electron is unity in atomic units, nuclear masses are much larger; even for the lightest nucleus, hydrogen, $M_{H} = \\frac{m_p}{m_e} \\approx 1836$ !! This observation is in fact at the heart of the Born-Oppenheimer approximation (named after the physicists Max Born and the Robert Oppenheimer). Because of their larger mass, the positions of the nuclei can be treated as constant. If the nuclear positions $\\{R_A\\}$ are *fixed*, the last term in the molecular Hamiltonian vanishes, the nuclear repulsion energy (4$^{\\rm th}$ term in Eq. (1.3)) \n",
    "\\begin{equation}\n",
    "V_{NN} = \\sum_{A=1}^{N_{nuc}} \\sum_{B>A}^{N_{nuc}} \\frac{Z_AZ_b}{R_{AB}}\n",
    "\\tag{1.4}\n",
    "\\end{equation}\n",
    "is a constant that can be added to the electronic energy $E_{el}$ (see below), and the electrons are considered to move in the electrostatic field of the nuclei. Thus, within the Born-Oppenheimer approximation, the electronic Hamiltonian is\n",
    "\\begin{equation}\n",
    "\\hat{H}_{\\rm el} = \\hat{T}_e + \\hat{V}_{Ne} + \\hat{V}_{ee} = -\\frac{1}{2}\\sum_{i=1}^{N_e} \\nabla^2_i -\\sum_{A=1}^{N_{nuc}}\\sum_{i=1}^{N_e}\\frac{Z_A}{r_{iA}}+\\sum_{i=1}^{N_e}\\sum_{j>i}^{N_e}\\frac{1}{r_{ij}} \n",
    "\\tag{1.5}\n",
    "\\end{equation}\n",
    "and the electronic energy levels are obtained by solving the electronic Schrödinger equation\n",
    "\\begin{equation}\n",
    "\\hat{H}_{\\rm el} \\psi_{\\rm el}\\left(\\{r_i\\};\\{R_A\\}\\right) = E_{\\rm el} \\psi_{\\rm el}\\left(\\{r_i\\};\\{R_A\\}\\right)\n",
    "\\tag{1.6}\n",
    "\\end{equation}\n",
    "where the notation $\\psi_{\\rm el}\\left(\\{r_i\\};\\{R_A\\}\\right)$ implies that the electronic wave function depends *explicitly* on the coordinates $\\{r_i\\}$ of the electrons **and** only *parametrically* on the coordinates of the nuclei (i.e. the nuclear coordinates $\\{R_A\\}$ do not appear in the expression, however, the form of the electronic wave function depends on where the nuclei are). Note that because the the kinetic energy of the nuclei is neglected within the Born-Oppenheimer approximation, the Born-Oppenheimer energy $E_{BO} = E_{el} + V_{NN}$ (i.e. the sum of the electronic energy and the nuclear repulsion energy) is lower than the total energy of the molecule!"
   ]
  },
  {
   "cell_type": "markdown",
   "id": "b7715e8f-aad2-4cf4-9caf-4da7dded5a33",
   "metadata": {
    "jp-MarkdownHeadingCollapsed": true
   },
   "source": [
    "## I.2. Pragmatic introduction to quantum chemistry modelling"
   ]
  },
  {
   "cell_type": "markdown",
   "id": "21910aa0-7c41-4de5-9a42-f9afd389ee44",
   "metadata": {},
   "source": [
    "As you may already anticipate, just computing $E_{\\rm el}$ itself by solving electronic Schrödinger equation in Eq. (1.6) is already of significant practical use. For example, the electronic energy of a molecule at different geometries allows the prediction of the relative energies of isomers. Similarly, one can use energies to predict the lowest-energy equilibrium geometry of molecules or to determine barrier heights and energy changes for chemical reactions. Furthermore, based on the first postulate of quantum mechanics, the electronic wave function allows us to predict any molecular property. These properties include electron densities, electronic dipole (and higher-order) moments, and NMR shielding constants. Lastly, knowing electronic energies and wave functions can collectively be used to predict the UV-Vis spectra of atoms and molecules. Although these properties are of significant practical utility, solving the electronic Schrödinger equation is still an extremely challenging task, and several approximate methods have been developed over the years. \n",
    "\n",
    "As with any model, the accuracy of electronic structure theory calculations is determined by the underlying approximations. Apart from the Born-Oppenheimer approximation, there are two approximations (loosely/broadly speaking) one usually makes in practical applications. The first approximation has to do with the choice of a **basis set** and how we describe the spatial distribution of individual electrons in the molecule. In other words, how accurate is our description of the molecular orbitals in terms of the atomic orbitals? The second approximation concerns our model for the interaction (repulsion) between electrons and is often referred to as **electron correlation** treatment. Ideally, we would use a very large and flexible basis set with a very accurate electron correlation treatment, but this is rarely practical as the computational time and resources needed for electronic structure calculations increase very quickly with basis set size and the level of correlation treatment (see figure below).\n",
    "\n",
    "<img src=\"https://github.com/act-cms/quantum-chemistry-simulations-in-psi4/blob/main/pople-diagram.jpeg?raw=true\" style=\"display: block; margin: 0 auto; max-height:500px;\">"
   ]
  },
  {
   "cell_type": "markdown",
   "id": "7a1030b7-fca6-4107-a55f-f24ea09f6265",
   "metadata": {
    "jp-MarkdownHeadingCollapsed": true
   },
   "source": [
    "### I.2.1 Basis sets"
   ]
  },
  {
   "cell_type": "markdown",
   "id": "f03be0c0-f2cb-48da-bc06-0c2a22a42aaa",
   "metadata": {},
   "source": [
    "The first approximation arises mainly for practical reasons. Although we have closed-form expressions for the orbitals of one-electron atoms and ions, we do not know the exact mathematical expressions for the orbitals of many-electron atoms, and our knowledge of orbitals for many-electron molecules is even less complete! Thus, to describe the distribution of electrons in molecules, molecular orbitals (MOs) are represented as linear combinations of atomic orbitals (LCAO)\n",
    "\\begin{equation}\n",
    "\\phi^{MO}_\\alpha = \\sum_i^{N_{AO}} c_{\\alpha,i} f^{AO}_i\n",
    "\\tag{2.1}\n",
    "\\end{equation}\n",
    "where the number of AOs ($N_{AO}$) is determined by the size of the molecule and the choice of basis set. While AOs describe the spatial distribution of electrons in atoms, MOs describe electron densities in molecules. As an explicit example, if we choose to only include $1s$ type AOs on the two hydrogen atoms (referred to as the *minimal* basis), the bonding $\\sigma_g$ and antibonding $\\sigma_u$ MOs of H$_2$ are\n",
    "\\begin{equation}\n",
    "\\sigma_g \\propto 1s_A + 1s_B \\hspace{3cm} \\sigma_u \\propto 1s_A - 1s_B\n",
    "\\tag{2.2}\n",
    "\\end{equation}\n",
    "in terms of the $1s_A$ AO centered on nucleus $A$ and the $1s_B$ AO centered on nucleus $B$. Note that we ascribe a set of AOs to each atom of the molecule, and, from the example in Eq. (2.2) above, you can make the following general observations: 1) the sum over $i$ in Eq. (2.1) includes all AOs in the molecule (hence, MOs are delocalized over the entire molecule), 2) each MO is associated with its own *distinct* set of expansion coefficients, and 3) the total number of MOs is equal to the total number of AOs. Lastly, the quantity $\\vert c_{\\alpha,i}\\vert^2$ is proportional to the importance of AO $i$ in describing MO $\\alpha$; for example, both AOs are equally important in the description of the $\\sigma_g$ MO.\n",
    "\n",
    "A minimal basis set usually yields results that are *only qualitatively* correct, and we need to consider basis sets with more flexibility if we want to use electronic structure calculations *quantitatively*. For this reason, a plethora of extended basis sets have been developed over the years including split-valence basis sets, Pople-style basis sets, Karlsruhe basis sets, atomic natural orbital basis sets, and correlation-consistent basis sets. In this worksheet, we will focus on the correlation-consistent basis sets developed by Dunning and co-workers.\n",
    "\n",
    "This sequence of basis sets allows us to systematically improve the quality of the results and extrapolate certain properties (in particular energies) to the infinite/complete basis set limit. For second-period atoms, the smallest member of this family of basis sets - the **c**orrelation-**c**onsistent **p**olarized **V**alence **D**ouble **Z**eta (cc-pVDZ) basis set - includes 3 $s$-type, 2 $p$-type and 1 $d$-type AOs. If you list the orbitals in the first three shells (up to $n=3$ and $\\ell=2$) of hydrogen, you will see that this basis set includes all these orbitals. We can increase the flexibility by including an additional shell (up to $n=4$ and $\\ell=3$); the correlation-consistent polarized Valence Triple Zeta AO (cc-pVTZ) basis set would thus consist of 4 $s$-type, 3 $p$-type, 2 $d$-type, and 1 $f$-type AOs. In general, these basis sets are denoted cc-pV$X$Z, where $X$ refers to the cardinal number of the basis set and, in the case of second-period atoms, is equal to the highest value of $\\ell$ for the basis set.  The table below lists the different basis sets that you will encounter in the exercises below.\n",
    "\n",
    "|  basis set  |    cardinality  <br> ($X$) |    AOs included <br> 1$^{\\rm st}$ period | AOs included <br> 2$^{\\rm nd}$ period |\n",
    "|:---------:|:-----:|:-----------:|:-----:|\n",
    "| cc-pVDZ | 2 | 2$s$,1$p$                | 3$s$,2$p$,1$d$ |\n",
    "| cc-pVTZ | 3 | 3$s$,2$p$,1$d$           | 4$s$,3$p$,2$d$,1$f$ |\n",
    "| cc-pVQZ | 4 | 4$s$,3$p$,2$d$,1$f$      | 5$s$,4$p$,3$d$,2$f$,1$g$ |\n",
    "| cc-pV5Z | 5 | 5$s$,4$p$,3$d$,2$f$,1$g$ | 6$s$,5$p$,4$d$,3$f$,2$g$,1$h$ |"
   ]
  },
  {
   "cell_type": "markdown",
   "id": "74fe135d-8d46-4351-a881-6c1340cbda3f",
   "metadata": {
    "jp-MarkdownHeadingCollapsed": true
   },
   "source": [
    "### I.2.2 Electron correlation"
   ]
  },
  {
   "cell_type": "markdown",
   "id": "4f7b0873-b519-4e0c-8be8-0cdfadca4c3b",
   "metadata": {},
   "source": [
    "What makes Eq. (1.5) difficult to solve is the electron-electron repulsion term in Eq. (1.4); if it wasn't for this term, the electronic Schrödinger equation would have been solved with a very high degree accuracy many years ago. Below, we will discuss three *ab initio* approximations for modeling the repulsion between electrons. An *ab initio* (also called first principles) method is one that only uses fundamental physical constants (e.g. fundamental unit of charge, etc.) and physical laws (e.g. postulates of quantum mechanics) without resorting to the use of experimental data.\n",
    "\n",
    "<br> <center> **Hartree Fock theory** </center> <br>\n",
    "\n",
    "The most common type of *ab initio* electronic structure approach is called the Hartree-Fock (HF) method, in which the electronic structure of a molecule is described by a single electron configuration where electrons occupy the lowest-energy orbitals, and the ground-state energy is then obtained by varying the MO expansion coefficients $\\{c_{\\alpha,i}\\}$ in Eq. (2.1). The single electron configuration approximation is equivalent to assuming that an electron moves in the average electric field generated by the remaining $N_e-1$ electrons, where $N_e$ is the total number of electrons in the molecule. The main steps of computing the orbital expansion coefficients can be summarized as follows\n",
    "\n",
    "1) Guess the form of the molecular orbitals.\n",
    "2) Given the orbitals, construct the approximate Hamiltonian (called the Fock operator) matrix which incorporates the kinetic energy of the electrons, the nucleus-electron attractions, and the average electron-electron repulsion.\n",
    "3) Diagonalize the Fock matrix to obtain orbital energies (the eigenvalues) and orbital expansion coefficients (the eigenvectors).\n",
    "4) Because the Fock matrix depends on the orbitals, steps 2 and 3 are repeated until the total energy and electron density converge below user-defined thresholds.\n",
    "\n",
    "Because the HF approximation neglects the instantaneous repulsion between electrons, the HF energy $E_{HF}$ is *above* the exact energy of the molecule. No matter how large a basis set one uses, $E_{HF} > E_{exact}$. Furthermore, also note that because most calculations use extended basis sets, the total number of MOs (denoted $N$) is greater than the number of electrons. Assuming that the molecule contains and even number of electrons, the $N_o = N_e/2$ lowest-energy MOs are doubly occupied whereas the remaining $N_v = N - N_e / 2$ MOs are unoccupied. The unoccupied MOs are sometimes referred to as virtual or external MOs. These virtual MOs may appear to be somewhat wasteful, however, their energies can be used to approximate electron affinities.\n",
    "\n",
    "<br> <center> **Excited configurations and electron correlation** </center> <br>\n",
    "\n",
    "More importantly, the virtual MOs can be used by more sophisticated methods to provide a quantitatively more accurate model for electron correlation. These methods are often referred to as *correlated methods* since they aim to model the effects of electron correlation by including excited configurations obtained from the lowest-energy HF configuration. To qualitatively appreciate why these configurations might result in a lower energy than $E_{HF}$, consider a minimal basis calculation for molecular hydrogen. HF theory yields two MOs (see Eq. (2.2)) with the bonding $\\sigma_g$ MO doubly-occupied in the $\\sigma_g^2$ lowest-energy configuration. For symmetry reasons, the only other configuration that needs to be considered is the one where the antibonding $\\sigma_u$ MO is doubly occupied. At first, it may appear that this doubly-excited configuration (relative to HF) may raise the energy (since a higher-energy MO is doubly occupied), however, because the antibonding MO enhances electron density away from the internuclear region, including the $\\sigma_u^2$ configuration increases the separation between electrons and hence lowers the energy!\n",
    "\n",
    "<img src=\"https://github.com/act-cms/quantum-chemistry-simulations-in-psi4/blob/main/h2-minimal.jpeg?raw=true\" style=\"display: block; margin: 0 auto; max-height:500px;\">\n",
    "\n",
    "More generally, a calculation with $N_e$ electrons, $N_o$ occupied MOs, and $N_v$ virtual (unoccupied) MOs, the exact wave function includes the HF configuration, as well as singly-, doubly-, and, in principle, $N_e$-tuply excited configurations. \n",
    "\n",
    "<img src=\"https://github.com/act-cms/quantum-chemistry-simulations-in-psi4/blob/main/excited-configurations.jpeg?raw=true\" style=\"display: block; margin: 0 auto; max-height:500px;\">\n",
    "\n",
    "Mathematically, this means that the exact wave function is expressed as a linear combination of configurations\n",
    "\\begin{equation}\n",
    "\\psi_{exact} = \\psi_{HF} + \\sum_{S} c_S \\psi_S + \\sum_{D} c_D \\psi_D + ... + \\sum_{N_e} c_{N_e} \\psi_{N_e} \n",
    "\\tag{2.3}\n",
    "\\end{equation}\n",
    "In Eq. (2.3), $\\psi_S$ and $\\psi_D$ denote singly- and doubly-excited configurations relative to the HF configuration, respectively, and the importance of a configuration is proportional to the magnitude of the coefficients $c_S$ and $c_D$. In general, the number of singly-excited configuration is proportional to $N_o\\cdot N_v$ while the number of doubly-excited configurations is proportional to $N_o^2 \\cdot N_v^2$. As you may anticipate, the number of configurations included in Eq. (2.3) grows rather quickly with the number of unoccupied orbitals and the excitation level! Luckily, in most cases, the higher the energy of an excited configuration, the smaller its contribution to the exact wave function, and thus, calculations including singly- and doubly-excited configurations usually yield quantitatively accurate energies and properties for most molecules near the equilibrium geometry. \n",
    "\n",
    "Below, we discuss three different correlated methods. In essence, these methods differ from each other in how the coefficients for the excited configurations in Eq. (2.3) are calculated, however, the details of the specific mathematics involved is beyond the scope of our discussion. We will focus our discussion on highlighting important aspects of each method as they relate to practical applications. \n",
    "\n",
    "<br> <center> **Møller-Plesset perturbation theory** </center> <br>\n",
    "\n",
    "The key assumption of Møller-Plesset (MP) perturbation theory is that in most cases, the effects of electron correlation are rather small. Thus, one can use perturbation theory to estimate the coefficients of excited configurations; for example, the coefficients of doubly-excited configurations are inversely proportional to the energy difference between the HF and doubly-excited configurations. This is both the strength of the method as well as its Achilles heel; the calculations are relatively quick and do not require huge computing power as evaluating the energy differences is rather easy, however, MP perturbation theory can give egregious results when configurations become degenerate (as is often the case for transition metal complexes or for molecules far from their equilibrium geometries). Nonetheless, in the absence of such degeneracies, energies from second-order (denoted MP2) and fourth-order (denoted MP4) MP perturbation theory are readily available for relatively large molecules. As well, because of the simplicity of the mathematical expressions, the derivatives needed for geometry optimization and calculating molecular properties can be evaluated efficiently.\n",
    "\n",
    "<br> <center> **Configuration interaction** </center> <br>\n",
    "\n",
    "The configuration interaction (CI) method can be classified according to the maximum excitation level included in the CI wave function. If we include the HF configuration and the singly-excited configurations, we obtain the CI method with single excitations (CIS for short) that can be used to model excited states of molecules. Including singly- and doubly-excited configurations yields the CI method with single and double excitations (CISD) which can be used to incorporate correlation effects with a high level of accuracy. If all excitations are included, we obtain the full-CI method which represents the exact solution of the Schrödinger equation within the chosen AO basis set. The coefficients for excited configurations are determined using the linear variation method using iterative diagonalization methods that avoid the explicit construction of the Hamiltonian matrix. However, due to the iterative nature of the diagonalization, CI calculations are considerably more costly (both in terms of time and computing resources) than MP perturbation theory. Furthermore, except for full-CI, truncated CI methods such as CIS and CISD are not size-extensive and their accuracy degrades for larger molecules. Thus, CIS and CISD methods are usually used for medium-sized molecules in medium-sized basis sets. \n",
    "\n",
    "<br> <center> **Coupled cluster theory** </center> <br>\n",
    "\n",
    "Coupled cluster (CC) theory is considered by many as the gold standard of electronic structure theory. As in CI, there exists a hierarchy of CC approximations; for example, CCSD includes single and double excitations. If we want to further improve the accuracy without incurring too great a cost penalty, the CCSD(T) method includes (perturbatively) the effect of triple excitations and provides highly accurate energies and molecular properties. However, notice that because triple excitations are included using perturbation theory, CCSD(T) can also provide nonphysical results when degeneracies occur. Although the CI and CC methods may appear similar on the surface, they are quite distinct. Because CC theory uses an exponential parameterization of the excitation operator, the CC wave function is more accurate since higher-order excited configurations are included indirectly (i.e. coefficients for quadruply excited configurations are expressed as products of coefficients of doubly- and/or singly- excited configurations). Furthermore, because the CC method is size-extensive, its accuracy does not degrade for larger molecules. Taken together, in the absence of degeneracies, *CCSD(T) represents the gold standard in quantum chemistry that is applicable to medium-sized molecules with medium-sized basis sets*.     "
   ]
  },
  {
   "cell_type": "markdown",
   "id": "a4673d5c-0bc9-4eac-9b7d-a555ffa9aefa",
   "metadata": {
    "jp-MarkdownHeadingCollapsed": true
   },
   "source": [
    "# II. List of acronyms and key terms used in quantum chemistry modelling"
   ]
  },
  {
   "cell_type": "markdown",
   "id": "a89a2e39-70f7-4fa3-9584-4bb53ef761ba",
   "metadata": {},
   "source": [
    "Key concepts of electronic structure theory.\n",
    "\n",
    "- **Molecular Hamiltonian**: This operator includes the operators for the 1) kinetic energy of the electrons $\\hat{T}_e$, 2) nucleus-electron potential $\\hat{V}_{ne}$, 3) electron-electron potential $\\hat{V}_{ee}$, 4) nucleus-nucleus potential $\\hat{V}_{nn}$, and 5) kinetic energy of the nuclei $\\hat{T}_n$.\n",
    "\\begin{equation}\n",
    "\\hat{H}_{\\rm molecular} = \\hat{T}_e + \\hat{V}_{ne} + \\hat{V}_{ee} + \\hat{V}_{nn} + \\hat{T}_n\n",
    "\\end{equation}\n",
    "\n",
    "- **Born-Oppenheimer approximation**: Because the mass of a nucleus is at least 1836 times larger than that of an electron, the positions of the nuclei are assumed to be fixed. As a result, the kinetic energy of the nuclei may be neglected and the nuclear repuslion energy is a constant.\n",
    "\n",
    "- **Electronic (aka Born-Oppenheimer) Hamiltonian**: This operator includes the operators for 1) kinetic energy of the electrons $\\hat{T}_e$, 2) nucleus-electron potential $\\hat{V}_{ne}$, and 3) electron-electron potential $\\hat{V}_{ee}$.\n",
    "\\begin{equation}\n",
    "\\hat{H}_{\\rm el} = \\hat{T}_e + \\hat{V}_{ne} + \\hat{V}_{ee}\n",
    "\\end{equation}\n",
    "\n",
    "- **atomic orbitals (AO)**: Atom-centered functions that describe the spatial distribution of a single electron in and atom.\n",
    "- **molecular orbitals (MO)**: Functions that describe the spatial distribution of a single electron in a molecule.\n",
    "- **linear combination of atomic orbitals (LCAO)**: Molecular orbitals are represented as a weighted sum of atomic orbitals.\n",
    "- **basis set**: A set of atom-centered functions used to represent AOs in atoms and MOs in molecules.\n",
    "- **infinite/complete basis set (CBS) limit**: Value of a certain property, such energy, in the limit that the basis set is complete (i.e. the basis set size approaches infinity). This value is often extrapolated as calculations with an infinite nube of basis functions are not feasible.\n",
    "- **Hartree Fock (HF) theory (aka mean field theory)**: Approximate method for solving the electronic Schrödinger equation; assumes that an electron in the molecule moves in the average electric field generated by the remaining electrons (this is equivalent to the assumption that the wave function can be written as a single electron configuration).\n",
    "- **electron correlation**: Refers to the idea that because of the instantaneous repulsion, the motion of electrons is correlated (i.e. the position of one electron is not independent of the instantaneous position of another electron).\n",
    "- **correlated method**: A method that incorporates the effects of electron repulsion beyond HF theory\n",
    "- **correlation energy**: Energy difference between the energy obtained from a correlated method and the HF energy. $E_{\\rm corr} = E_{\\rm correlated} - E_{\\rm HF}$. Note that $E_{\\rm corr} \\leq 0$.\n",
    "- **occupied MO**: Orbital that is occupied by 1 or 2 electrons.\n",
    "- **unoccupied MO (aka virtual MO or external MO)**: Orbital that has no electrons in it.\n",
    "- **singly-occupied MO**: Orbital with one electron in it.\n",
    "- **boubly-occupied MO**: Orbital with two electrons in it.\n",
    "- **closed-shell configuration**: A configuration with an even number of electrons *and* all MOs doubly occupied; the total spin is $S=0$.\n",
    "- **open-shell configuration**: A configuration where some MOs are singly occupied; the total spin is $S > 0$.\n",
    "- **singly-excited configuration**: A configuration obtained by \"promoting\" a single electron from an MO that is occupied in the HF configuration to an unoccupied MO. $m_s$ (spin-up or spin-down) of the promoted electron must remain unchanged.\n",
    "- **doubly-excited configuration**: A configuration obtained by \"promoting\" two electrons from MO(s) that is/are unoccupied in the HF configuration to unoccupied MO(s). Combined $m_s$ of the promoted electrons must remain unchanged.\n",
    "\n",
    "List of abbreviations often used in electronic structure theory:\n",
    "\n",
    "- **AO**: atomic orbital\n",
    "- **MO**: molecular orbital\n",
    "- **LCAO**: linear combination of atomic orbitals\n",
    "- **cc-pVDZ**: correlation-consistent polarized valence double zeta basis set \n",
    "- **cc-pVTZ**: correlation-consistent polarized valence triple zeta basis set\n",
    "- **cc-pVQZ**: correlation-consistent polarized valence quadruple zeta basis set\n",
    "- **cc-pV5Z**: correlation-consistent polarized valence quintuple zeta basis set\n",
    "- **HF**: Hartree-Fock\n",
    "- **SCF**: Self-consistent field method (in most cases, used interchangeably with HF)\n",
    "- **RHF**: restricted Hartree-Fock for closed-shell configurations (spatial parts of spin-up and spin-down MOs are restricted to be the same)\n",
    "- **ROHF**: restricted Hartree-Fock for open-shell configurations (spatial parts of spin-up and spin-down MOs are restricted to be the same)\n",
    "- **UHF**: unrestricted Hartree-Fock (spatial parts of spin-up and spin-down MOs can be different)\n",
    "- **MP2**: second-order Møller-Plesset perturbation theory\n",
    "- **MP4**: fourth-order Møller-Plesset perturbation theory\n",
    "- **CIS**: configuration interaction with single excitations\n",
    "- **CISD**: configuration interaction with single and double excitations\n",
    "- **full-CI**: configuration interaction including ALL possible excitations. The full-CI energy represents the exact energy within a given basis set.\n",
    "- **CCSD**: coupled-cluster theory with single and double excitations\n",
    "- **CCSD(T)**: coupled-cluster theory with single and double excitations and perturbative triples correction"
   ]
  },
  {
   "cell_type": "markdown",
   "id": "0eb306b0-955d-4289-9951-6385e812e6d6",
   "metadata": {},
   "source": [
    "# III. General information on the PsiAPI interface"
   ]
  },
  {
   "cell_type": "markdown",
   "id": "2896ca7f-5e09-4519-a8f9-113d1ee386fd",
   "metadata": {},
   "source": [
    "Psi4 is a general purpose electronic structure package that allows, among many other things, "
   ]
  },
  {
   "cell_type": "markdown",
   "id": "7e4554c8-f200-4002-b789-70561fd4013c",
   "metadata": {},
   "source": [
    "# IV. Illustrative examples of quantum chemistry modelling"
   ]
  },
  {
   "cell_type": "code",
   "execution_count": 1,
   "id": "232f1278",
   "metadata": {},
   "outputs": [],
   "source": [
    "import psi4\n",
    "import numpy as np\n",
    "import time\n",
    "import os\n",
    "import matplotlib.pyplot as plt\n",
    "import scipy.optimize as spopt"
   ]
  },
  {
   "cell_type": "markdown",
   "id": "ba9e3ff4-98c0-4d75-988a-75ff14a69cf0",
   "metadata": {},
   "source": [
    "## 5. Effects of basis set size on energy"
   ]
  },
  {
   "cell_type": "markdown",
   "id": "e00b59a7",
   "metadata": {},
   "source": [
    "To demonstrate the effects of basis set size, let's calculate the HF energy of the hydrogen atom using the cc-pVXZ family of basis sets. For this simple atom, we know that the exact solution is $E_{\\rm exact} = -0.5$ (in atomic units). \n",
    "\n",
    "Note that because the ground-state elesctron configuration of the H atom is $1s^1$, the HF wave function is an open-shell configuration with 1 unpaired electron. As a result, the maximum spin is $S=1/2$ and thus the spin-multiplicity of the ground-state of the H atom is $2S+1 = 2$ (i.e., the ground-state of hydrogen is a doublet) and we will need to either use ROHF or UHF. I prefer ROHF since it preserves the spin-symmetry of the wave function while UHF does not."
   ]
  },
  {
   "cell_type": "code",
   "execution_count": null,
   "id": "9fa3e2eb-2f7d-4c51-97c0-4ff326da722c",
   "metadata": {},
   "outputs": [],
   "source": [
    "# define geometry (remember, H is an open-shell molecule, so the multiplicity if 2*1/2 + 1 = 2)\n",
    "h = psi4.geometry(\"\"\"\n",
    "0 2\n",
    "H 0.0 0.0 0.0\n",
    "symmetry d2h\n",
    "\"\"\")\n",
    "\n",
    "# set number of threads for parallel run\n",
    "psi4.core.set_num_threads( 6 )\n",
    "\n",
    "# set options\n",
    "psi4.set_options({\n",
    "    'scf_type': 'df',         # this uses 3-index integrals to speed up SCF\n",
    "    'reference': 'rohf',      # set the reference configuration to ROHS\n",
    "    'basis': 'cc-pVDZ'    # insert the current basis set\n",
    "})\n",
    "\n",
    "E_vals[i]=psi4.energy('scf',molecule=h)"
   ]
  },
  {
   "cell_type": "markdown",
   "id": "9a128094",
   "metadata": {},
   "source": [
    "Now that we calculated the energies in these basis sets, we can perform an extrapolation to the infinite basis set limit. We will use a three-parameter function given by\n",
    "\\begin{equation}\n",
    "E^X_{HF} = E_{HF}^{\\infty} + A e^{-XB}\n",
    "\\end{equation}\n",
    "where. the fitting parameter $E_{HF}^{\\infty}$ is the infinite basis set limit for the Hartree Fock energy. For larger molecules, for which the HF calculation may be more costly, one can also use the two-parameter function\n",
    "\\begin{equation}\n",
    "E^X_{HF} = E_{HF}^{\\infty} + A X^{-3}\n",
    "\\end{equation}"
   ]
  },
  {
   "cell_type": "code",
   "execution_count": null,
   "id": "4134b7b6",
   "metadata": {},
   "outputs": [],
   "source": []
  },
  {
   "cell_type": "markdown",
   "id": "e29794bf-8398-404b-a0cb-71c96cfad61d",
   "metadata": {},
   "source": [
    "## 6. Effects of electron correlation and relative accuracy of correlated methods"
   ]
  },
  {
   "cell_type": "markdown",
   "id": "c4328108",
   "metadata": {},
   "source": [
    "To demonstrate the concept of correlation energy and the accuracy of different levels of theory, let's consider molecular nitrogen in a cc-pVDZ basis at the MP2, MP4, CISD, CCSD, and CCSD(T) levels of theory. At $R = 112.08$ pm, the exact energy in the cc-pVDZ basis is $E_{\\rm full-CI} = -109.278338$"
   ]
  },
  {
   "cell_type": "code",
   "execution_count": null,
   "id": "f8e4c3d5-2aa3-43e7-9740-f2c8d5ca9768",
   "metadata": {},
   "outputs": [],
   "source": [
    "# define geometry (remember, N2 is a closed-shell molecule, so the multiplicity if 2*0 + 1 = 1)\n",
    "# Here we use Z-matrix format to define the geometry\n",
    "\n",
    "n2 = psi4.geometry(\"\"\"\n",
    "0 1\n",
    "N \n",
    "N 1 1.1208\n",
    "symmetry d2h\n",
    "\"\"\")\n",
    "\n",
    "# define options\n",
    "psi4.set_options({\n",
    "    'scf_type': 'df',         # this uses 3-index integrals to speed up SCF\n",
    "    'reference': 'rhf',       # set the reference configuration to ROHF\n",
    "    'basis': 'cc-pVDZ'        # insert the current basis set\n",
    "})\n",
    "\n",
    "# set number of threads for parallel run\n",
    "psi4.core.set_num_threads( 6 )"
   ]
  },
  {
   "cell_type": "code",
   "execution_count": null,
   "id": "cfe0891e",
   "metadata": {},
   "outputs": [],
   "source": []
  },
  {
   "cell_type": "markdown",
   "id": "b7b109e6-b53f-4b40-a2f3-f28efe5d440e",
   "metadata": {},
   "source": [
    "## 7. Potential energy curve/surface scans"
   ]
  },
  {
   "cell_type": "markdown",
   "id": "096df5c0",
   "metadata": {},
   "source": [
    "To demonstrate the ideas behind a potential surface/curve, we will evaluate the PEC for the\n",
    "\n",
    "1. rotation about the double bond in ethene (SCF and MP2 level)\n",
    "2. bond stretch in molecular nitrogen (SCF, CISD, and CCSD(T) level)"
   ]
  },
  {
   "cell_type": "code",
   "execution_count": null,
   "id": "14364bcc",
   "metadata": {},
   "outputs": [],
   "source": [
    "# define options\n",
    "psi4.set_options({\n",
    "    'scf_type': 'cd',         # this uses 3-index integrals to speed up SCF\n",
    "    'reference': 'rhf',       # set the reference configuration to ROHF\n",
    "    'basis': 'cc-pVDZ'        # insert the current basis set\n",
    "})\n",
    "\n",
    "# set number of threads for parallel run\n",
    "psi4.core.set_num_threads( 6 )\n",
    "\n",
    "c2h4 = psi4.geometry(\"\"\"\n",
    "    0 1\n",
    "    C\n",
    "    C 1 1.339\n",
    "    H 2 1.086 1 121.2\n",
    "    H 2 1.086 1 121.2 3 180.0\n",
    "    H 1 1.086 2 121.2 4 180.0\n",
    "    H 1 1.086 2 121.2 5 180.0\n",
    "    \"\"\".format(D)\n",
    ") \n",
    "\n",
    "E_MP2_vals[i] = psi4.energy('mp2'     , molecule = c2h4 )"
   ]
  },
  {
   "cell_type": "code",
   "execution_count": null,
   "id": "67a87862",
   "metadata": {},
   "outputs": [],
   "source": []
  },
  {
   "cell_type": "code",
   "execution_count": null,
   "id": "d1feab84",
   "metadata": {},
   "outputs": [],
   "source": []
  },
  {
   "cell_type": "code",
   "execution_count": null,
   "id": "f87907b2",
   "metadata": {},
   "outputs": [],
   "source": []
  },
  {
   "cell_type": "markdown",
   "id": "21d82a6c-4415-4832-9740-b3055c710e22",
   "metadata": {},
   "source": [
    "## 8. Geometry optimization and vibrational frequency analysis "
   ]
  },
  {
   "cell_type": "markdown",
   "id": "3539fe9f",
   "metadata": {},
   "source": [
    "From the NIST website, $R_e = 91.68$ pm and $\\tilde{\\nu}_e = 4138.32$ cm$^{-1}$ for H$^{19}$F. Let's see how well we can reproduce this using HF and the gold standard, CCSD(T)."
   ]
  },
  {
   "cell_type": "code",
   "execution_count": null,
   "id": "bb20a9fe",
   "metadata": {},
   "outputs": [],
   "source": []
  },
  {
   "cell_type": "code",
   "execution_count": null,
   "id": "e880fbb3",
   "metadata": {},
   "outputs": [],
   "source": []
  },
  {
   "cell_type": "markdown",
   "id": "0e3d255b-a478-44f7-bb25-1659bacd1121",
   "metadata": {},
   "source": [
    "## 9. Reaction energetics"
   ]
  },
  {
   "cell_type": "markdown",
   "id": "06ee84ac",
   "metadata": {},
   "source": [
    "In the preceeding example, we focused on the accuracy of harmonic vibrational frequencies and equilibrium geometries. In this exercise, we will demonstrate how we can calculate enthalpy, entropy, and Gibbs energy changes for reactions. As an example, we take the simple reaction\n",
    "\\begin{equation}\n",
    "\\rm H_2(g) + C_2(g) \\rightarrow 2 \\hspace{1mm} HCl(g)\n",
    "\\end{equation}\n",
    "To calculate the relevant energy changes, one first optimizes the geometries of the species involved in the reaction, followed by harmonic frequency calculation. Then, one can use the spectrocsopic constants to calculate thermodynamic corrections to the electronic energy. \n",
    "Using data from the NIST website, the experimental quantities are\n",
    "\n",
    "- $\\Delta_RH^0 = -184.6$ kJ$\\cdot$mol$^{-1}$\n",
    "- $\\Delta_RG^0 = -190.6$ kJ$\\cdot$mol$^{-1}$\n",
    "- $\\Delta_RS^0 =  20.04$ J$\\cdot$K$^{-1}\\cdot$mol$^{-1}$\n",
    "\n",
    "Using the usual exressions for $\\Delta_RH^0$ and $\\Delta_R G^0$, we can calculate these values and then $\\Delta_R S^0$."
   ]
  },
  {
   "cell_type": "code",
   "execution_count": null,
   "id": "e644ef65",
   "metadata": {},
   "outputs": [],
   "source": []
  },
  {
   "cell_type": "code",
   "execution_count": null,
   "id": "99397ae2",
   "metadata": {},
   "outputs": [],
   "source": []
  },
  {
   "cell_type": "markdown",
   "id": "8024111a-da0a-4129-a11c-c09d3645cf28",
   "metadata": {},
   "source": [
    "## 10. Excited states"
   ]
  },
  {
   "cell_type": "markdown",
   "id": "de768965",
   "metadata": {},
   "source": [
    "The example below demonstrates how one can use equation of motion CC theory to calculate excited state energies. Here we will consider the lowest-energy $\\pi \\rightarrow \\pi^*$ transition of ethene. Since the ground state is a closed-shell configuration, the ground state belongs to the $A_g$ IRREP. Furthermore, the $\\pi$ orbital belongs to the $B_{3u}$ IRREP while the $\\pi^*$ MO belongs to the $B_{2g}$ IRREP; hence, the excited state belongs to the $B_{1u}$ IRREP. The experimental excitation energy is 7.66 eV."
   ]
  },
  {
   "cell_type": "code",
   "execution_count": null,
   "id": "f49e3047-1955-4aaf-b925-37d34cc471e9",
   "metadata": {},
   "outputs": [],
   "source": []
  },
  {
   "cell_type": "code",
   "execution_count": null,
   "id": "d9ba1e05",
   "metadata": {},
   "outputs": [],
   "source": []
  },
  {
   "cell_type": "code",
   "execution_count": null,
   "id": "e19723d7",
   "metadata": {},
   "outputs": [],
   "source": []
  },
  {
   "cell_type": "markdown",
   "id": "7d487cae",
   "metadata": {},
   "source": [
    "## Ionization potentials and elefctron affinities"
   ]
  },
  {
   "cell_type": "markdown",
   "id": "9d412dbe",
   "metadata": {},
   "source": [
    "As we mentioned in the introduction above, one can estimate the ionization potential and electronn affinitiy of a species using the orbital energies. A betetr way to calculate ionization energies and electron affinitites is to actually solve for the electronic structure of the cation and anion, respectively. Below, we will do so for carbon.\n",
    "\n",
    "Because carbon has 2 unpaired electrons in the $2p$ subshell, its ground electronic state is a triplet ($S = 1$), while the ground electronic state of the anion (3 unpaired electrons in the $2p$ subshell) is a quarter ($S = 3/2$) and the ground-electronic state of the cation with the lone electron in the $2p$ subshell is a doublet ($S = 1/2$) \n",
    "\n",
    "From the NIST website, the experimental values for the ionization energy and electron affinity are $11.26$ eV and $1.26$ eV, respectively. "
   ]
  },
  {
   "cell_type": "code",
   "execution_count": null,
   "id": "a903b913",
   "metadata": {},
   "outputs": [],
   "source": []
  },
  {
   "cell_type": "code",
   "execution_count": null,
   "id": "38525210",
   "metadata": {},
   "outputs": [],
   "source": []
  }
 ],
 "metadata": {
  "kernelspec": {
   "display_name": "Python 3 (ipykernel)",
   "language": "python",
   "name": "python3"
  },
  "language_info": {
   "codemirror_mode": {
    "name": "ipython",
    "version": 3
   },
   "file_extension": ".py",
   "mimetype": "text/x-python",
   "name": "python",
   "nbconvert_exporter": "python",
   "pygments_lexer": "ipython3",
   "version": "3.10.14"
  }
 },
 "nbformat": 4,
 "nbformat_minor": 5
}
